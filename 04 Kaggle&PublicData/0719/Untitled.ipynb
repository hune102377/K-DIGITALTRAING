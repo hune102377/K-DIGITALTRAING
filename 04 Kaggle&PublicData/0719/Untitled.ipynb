{
 "cells": [
  {
   "cell_type": "markdown",
   "id": "b63337bd",
   "metadata": {},
   "source": [
    "# 문자열 처리하기"
   ]
  },
  {
   "cell_type": "markdown",
   "id": "70cf757e",
   "metadata": {},
   "source": [
    "## 문자열 다루기"
   ]
  },
  {
   "cell_type": "markdown",
   "id": "eae9f96a",
   "metadata": {},
   "source": [
    "### 파이썬과 문자열\n",
    "#### 문자열은 작은 따음표나 큰따음표로 감싸서 만듬"
   ]
  },
  {
   "cell_type": "markdown",
   "id": "ec08f83f",
   "metadata": {},
   "source": [
    "### - 인덱스로 문자열 추출하기\n",
    "#### 문자열 데이터는 리스트 데이터 처럼 인덱스로 한 글자를 추출할 수 있다\n",
    "#### (스페이스도 인덱스 들어감)\n",
    "#### 인덱스 슬라이싱을 사용하면 여러개의 문자를 한 번에 추출할 수 있다"
   ]
  },
  {
   "cell_type": "code",
   "execution_count": 1,
   "id": "5e0df5e0",
   "metadata": {},
   "outputs": [
    {
     "name": "stdout",
     "output_type": "stream",
     "text": [
      "a s\n"
     ]
    }
   ],
   "source": [
    "word = 'a scratch'\n",
    "print(word[0:3])"
   ]
  },
  {
   "cell_type": "markdown",
   "id": "6cb82d7d",
   "metadata": {},
   "source": [
    "#### 전체 문자열을 추출할 때는 음수를 사용하면 안된다"
   ]
  },
  {
   "cell_type": "markdown",
   "id": "1076184f",
   "metadata": {},
   "source": [
    "#### 전체 문자열을 추출하고 싶으면 어느 한쪽에 문자열을 입력하지 않으면 그 부분은 모두 출력된다"
   ]
  },
  {
   "cell_type": "code",
   "execution_count": 2,
   "id": "c039c21a",
   "metadata": {},
   "outputs": [
    {
     "name": "stdout",
     "output_type": "stream",
     "text": [
      "a scratch\n"
     ]
    }
   ],
   "source": [
    "print(word[:])"
   ]
  },
  {
   "cell_type": "markdown",
   "id": "3b0695aa",
   "metadata": {},
   "source": [
    "### - 문자열 메서드"
   ]
  },
  {
   "cell_type": "code",
   "execution_count": 31,
   "id": "8da42a7b",
   "metadata": {},
   "outputs": [
    {
     "name": "stdout",
     "output_type": "stream",
     "text": [
      "Black knight\n",
      "2\n",
      "True\n",
      "True\n",
      "6\n",
      "18\n",
      "False\n",
      "True\n",
      "False\n",
      "BLACK NIGHT\n",
      "black night\n",
      "scratch!\n",
      "I'm not dead\n",
      "['NI!', 'NI!', 'NI!', 'NI!']\n",
      "('3', ',', '4')\n",
      "   nine   \n"
     ]
    }
   ],
   "source": [
    "#### captialize 첫 문자를 대문자로, 나머지는 소문자로 반환\n",
    "print(\"black Knight\".capitalize())\n",
    "#### count 문자열의 개수를 반환\n",
    "print(\"It's just a flesh wound!\".count('u'))\n",
    "#### startswith 문자열이 특정 문자로 시작하면 참\n",
    "print(\"Halt! Who goes there?\".startswith('Halt'))\n",
    "#### endswith 문자열이 특정 문자로 끝나면 참\n",
    "print(\"coconut\".endswith('nut'))\n",
    "#### find 찾을 문자열의 첫 번째 인덱스를 반환, 실패시 -1을 반환\n",
    "print(\"It's just a flesh wound!\".find('u'))\n",
    "#### index 메서드와 같은 역할을 수행하지만 실패시 ValueError 반환\n",
    "print(\"It's just a flesh wound!\".index('wound'))\n",
    "#### isalpha 모든 문자가 알파벳이면 참\n",
    "print(\"old woman\".isalpha())\n",
    "#### isdecimal 모든 문자가 알파벳이거나 숫자면 참\n",
    "print(\"37\".isdecimal())\n",
    "#### isalnum 모든 문자가 알파벳이거나 숫자면 참\n",
    "print(\"I'm 37\".isalnum())\n",
    "#### upper 모든 문자를 대문자로 변환\n",
    "print(\"Black Night\".upper())\n",
    "#### lower 모든 문자를 소문자로 변환\n",
    "print(\"Black Night\".lower())\n",
    "#### replace 문자열의 문자를 다른 문자로 교체\n",
    "print(\"flesh wound!\".replace('flesh wound', 'scratch'))\n",
    "#### strip 문자열의 맨 앞과 맨 뒤의 빈 칸을 제거\n",
    "print(\" I'm not dead \".strip())\n",
    "#### split 구분자를 지정하여 문자열로 나누고 나눈 값들의 리스트를 반환\n",
    "print(\"NI! NI! NI! NI!\".split(sep=' '))\n",
    "#### partition split 메서드와 비슷한 역할을 수행하지만 구분자도 반환\n",
    "print(\"3,4\".partition(','))\n",
    "#### center 지정한 너비로 문자열을 늘리고 문자열의 가운데 정렬\n",
    "print(\"nine\".center(10))"
   ]
  },
  {
   "cell_type": "markdown",
   "id": "1ca8d247",
   "metadata": {},
   "source": [
    "### join 메서드\n",
    "#### 문자열을 연결하여 새로운 문자열을 반환하는 메서드"
   ]
  },
  {
   "cell_type": "code",
   "execution_count": 32,
   "id": "03ab1826",
   "metadata": {},
   "outputs": [
    {
     "name": "stdout",
     "output_type": "stream",
     "text": [
      "40º 45' 52.837 N\n"
     ]
    }
   ],
   "source": [
    "d1=\"40º\"\n",
    "m1 =\"45'\"\n",
    "s1 = '52.837'\n",
    "u1 = 'N'\n",
    "\n",
    "coord = ' '.join([d1, m1, s1, u1])\n",
    "print(coord)"
   ]
  },
  {
   "cell_type": "markdown",
   "id": "144dc983",
   "metadata": {},
   "source": [
    "### splitlines 메서드\n",
    "#### 여러 행을 가진 문자열을 분리한 다음 리스트로 반환"
   ]
  },
  {
   "cell_type": "code",
   "execution_count": 34,
   "id": "1ac79c00",
   "metadata": {},
   "outputs": [],
   "source": [
    "multi_str = 123"
   ]
  },
  {
   "cell_type": "markdown",
   "id": "9d5662a9",
   "metadata": {},
   "source": [
    "### - 문자열 포매팅"
   ]
  },
  {
   "cell_type": "markdown",
   "id": "7c827362",
   "metadata": {},
   "source": [
    "#### {}(플레이스 홀더)와 format 메서드를 이용한 포매팅"
   ]
  },
  {
   "cell_type": "code",
   "execution_count": 36,
   "id": "f6b2defc",
   "metadata": {},
   "outputs": [
    {
     "name": "stdout",
     "output_type": "stream",
     "text": [
      "It's kist a flesh wound!\n",
      "It's kist a scratch!\n"
     ]
    }
   ],
   "source": [
    "var = 'flesh wound'\n",
    "s = \"It's kist a {}!\"\n",
    "\n",
    "print(s.format(var))\n",
    "\n",
    "\n",
    "print(s.format('scratch'))"
   ]
  },
  {
   "cell_type": "markdown",
   "id": "c41c92d8",
   "metadata": {},
   "source": [
    "#### 숫자 데이터를 포매팅할 때 다양한 방법"
   ]
  },
  {
   "cell_type": "markdown",
   "id": "ee65dc0e",
   "metadata": {},
   "source": [
    "##### :, 로 천 단위에 쉼표 넣기"
   ]
  },
  {
   "cell_type": "code",
   "execution_count": 37,
   "id": "82489bfd",
   "metadata": {},
   "outputs": [
    {
     "name": "stdout",
     "output_type": "stream",
     "text": [
      "999,999,999\n"
     ]
    }
   ],
   "source": [
    "print(\"{:,}\".format(999999999))"
   ]
  },
  {
   "cell_type": "markdown",
   "id": "8bd020c7",
   "metadata": {},
   "source": [
    "##### :.n을 활용하여 소수점 n개 번호에서 반올림"
   ]
  },
  {
   "cell_type": "code",
   "execution_count": 42,
   "id": "8bc5ffd4",
   "metadata": {},
   "outputs": [
    {
     "name": "stdout",
     "output_type": "stream",
     "text": [
      "0.3333\n",
      "0.6667\n",
      "1.0\n"
     ]
    }
   ],
   "source": [
    "print(\"{:.4}\".format(0.333333))\n",
    "print(\"{:.4}\".format(0.666666))\n",
    "print(\"{:.4}\".format(0.999999))"
   ]
  },
  {
   "cell_type": "markdown",
   "id": "3e075e76",
   "metadata": {},
   "source": [
    "##### :.n%을 활용하여 백분율 표현"
   ]
  },
  {
   "cell_type": "code",
   "execution_count": 43,
   "id": "0f5861b0",
   "metadata": {},
   "outputs": [
    {
     "name": "stdout",
     "output_type": "stream",
     "text": [
      "33.3333%\n",
      "66.6666%\n",
      "99.9999%\n"
     ]
    }
   ],
   "source": [
    "print(\"{:.4%}\".format(0.333333))\n",
    "print(\"{:.4%}\".format(0.666666))\n",
    "print(\"{:.4%}\".format(0.999999))"
   ]
  },
  {
   "cell_type": "markdown",
   "id": "43a92737",
   "metadata": {},
   "source": [
    "### %연산자를 활용한 포매팅"
   ]
  },
  {
   "cell_type": "code",
   "execution_count": 44,
   "id": "fd509a43",
   "metadata": {},
   "outputs": [
    {
     "name": "stdout",
     "output_type": "stream",
     "text": [
      "I only know 7 digit of pi\n"
     ]
    }
   ],
   "source": [
    "# 삽입할 값이 숫자인 경우\n",
    "s = 'I only know %d digit of pi' % 7\n",
    "print(s)"
   ]
  },
  {
   "cell_type": "code",
   "execution_count": 49,
   "id": "c563b677",
   "metadata": {},
   "outputs": [
    {
     "name": "stdout",
     "output_type": "stream",
     "text": [
      "Some digits of e: 2.72\n"
     ]
    }
   ],
   "source": [
    "# 삽입할 값이 문자인 경우\n",
    "print('Some digits of %(cont)s: %(value).2f' % {'cont': 'e', 'value': 2.718})"
   ]
  },
  {
   "cell_type": "markdown",
   "id": "bc97e6cf",
   "metadata": {},
   "source": [
    "#### f-string 포매팅 사용"
   ]
  },
  {
   "cell_type": "code",
   "execution_count": 50,
   "id": "f3fd8ebb",
   "metadata": {},
   "outputs": [
    {
     "name": "stdout",
     "output_type": "stream",
     "text": [
      "Hayden Planetarium Coordinates : 40, 73\n"
     ]
    }
   ],
   "source": [
    "lat = '40'\n",
    "lon = '73'\n",
    "s = f'Hayden Planetarium Coordinates : {lat}, {lon}'\n",
    "print(s)"
   ]
  },
  {
   "cell_type": "markdown",
   "id": "404d0316",
   "metadata": {},
   "source": [
    "### 정규식으로 문자열 처리에 날개 달기"
   ]
  },
  {
   "cell_type": "markdown",
   "id": "5b26d38b",
   "metadata": {},
   "source": [
    "### 정규식이란?\n",
    "####"
   ]
  }
 ],
 "metadata": {
  "kernelspec": {
   "display_name": "Python 3 (ipykernel)",
   "language": "python",
   "name": "python3"
  },
  "language_info": {
   "codemirror_mode": {
    "name": "ipython",
    "version": 3
   },
   "file_extension": ".py",
   "mimetype": "text/x-python",
   "name": "python",
   "nbconvert_exporter": "python",
   "pygments_lexer": "ipython3",
   "version": "3.9.12"
  }
 },
 "nbformat": 4,
 "nbformat_minor": 5
}
