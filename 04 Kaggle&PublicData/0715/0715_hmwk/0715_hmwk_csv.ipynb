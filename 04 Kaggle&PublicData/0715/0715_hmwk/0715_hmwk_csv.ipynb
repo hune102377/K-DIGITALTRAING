{
 "cells": [
  {
   "cell_type": "markdown",
   "id": "423ad28a",
   "metadata": {},
   "source": [
    "## 지하철 각 노선별 최대 하차 인원을 막대그래프로 표시하고, 하차인원 출력\n",
    "#### 출근 시간대: 07:00~08:59\n",
    "#### 사용 파일: subwaytime.csv 또는 subwaytime.xls\n",
    "#### 07:00-07:59 하차: index[11], 08:00-08:59 하차: index [13]\n",
    "#### 각 지하철 노선별 가장 많이 내리는 지하철 역 분석\n",
    "#### Ø 1 호선, 2 호선, 3 호선, 4 호선, 5 호선, 6 호선, 7 호선\n",
    "#### 하차 인원은 1,000 단위로 콤마를 찍어서 구분할 것\n",
    "#### 6 개의 지하철 역을 막대 그래프로 표시\n",
    "#### Bar chart 의 x 축은 (노선 + 지하철 역 이름)을 표시하고, y 축은 인원수를 표시\n",
    "#### 반드시 다른 운영체제에서도 동작할 수 있도록 platform 모듈을 사용하여\n",
    "#### 운영체제를 구분하여 한글 폰트 지정할 것"
   ]
  },
  {
   "cell_type": "code",
   "execution_count": 1,
   "id": "cfcd5a2d",
   "metadata": {},
   "outputs": [],
   "source": [
    "# 모듈 불러오기\n",
    "import pandas as pd\n",
    "import matplotlib.pyplot as plt\n",
    "import platform\n",
    "\n",
    "# 파일 설정\n",
    "# 미리 csv 파일에서 필요없는 부분과 ,를 제거해 줬으니 바로 사용\n",
    "\n",
    "# subway.csv 파일을 읽어옴\n",
    "df = pd.read_csv('./subway.csv',encoding='cp949', header=1)"
   ]
  },
  {
   "cell_type": "code",
   "execution_count": 2,
   "id": "5e5f2c1a",
   "metadata": {},
   "outputs": [],
   "source": [
    "# 07:00-07:59 하차와 08:00-08:59 하차 열을 합친 새로운 열을 생성\n",
    "df['출근시간 하차인원'] = df[df.columns[11]] + df[df.columns[13]]\n",
    "# 호선, 역 출근 시간 하차인원 만 추출\n",
    "df = df.iloc[:, [1, 3, len(df.columns) - 1]]\n",
    "# columns 명 이름 변경\n",
    "df.columns = ['호선', '역이름', '출근시간 하차인원']"
   ]
  },
  {
   "cell_type": "code",
   "execution_count": 3,
   "id": "c5869681",
   "metadata": {
    "scrolled": false
   },
   "outputs": [
    {
     "data": {
      "text/html": [
       "<div>\n",
       "<style scoped>\n",
       "    .dataframe tbody tr th:only-of-type {\n",
       "        vertical-align: middle;\n",
       "    }\n",
       "\n",
       "    .dataframe tbody tr th {\n",
       "        vertical-align: top;\n",
       "    }\n",
       "\n",
       "    .dataframe thead th {\n",
       "        text-align: right;\n",
       "    }\n",
       "</style>\n",
       "<table border=\"1\" class=\"dataframe\">\n",
       "  <thead>\n",
       "    <tr style=\"text-align: right;\">\n",
       "      <th></th>\n",
       "      <th>호선</th>\n",
       "      <th>역이름</th>\n",
       "      <th>출근시간 하차인원</th>\n",
       "    </tr>\n",
       "  </thead>\n",
       "  <tbody>\n",
       "    <tr>\n",
       "      <th>0</th>\n",
       "      <td>1호선</td>\n",
       "      <td>서울역</td>\n",
       "      <td>302084</td>\n",
       "    </tr>\n",
       "    <tr>\n",
       "      <th>1</th>\n",
       "      <td>1호선</td>\n",
       "      <td>시청</td>\n",
       "      <td>242137</td>\n",
       "    </tr>\n",
       "    <tr>\n",
       "      <th>2</th>\n",
       "      <td>1호선</td>\n",
       "      <td>종각</td>\n",
       "      <td>330536</td>\n",
       "    </tr>\n",
       "    <tr>\n",
       "      <th>3</th>\n",
       "      <td>1호선</td>\n",
       "      <td>종로3가</td>\n",
       "      <td>94168</td>\n",
       "    </tr>\n",
       "    <tr>\n",
       "      <th>4</th>\n",
       "      <td>1호선</td>\n",
       "      <td>종로5가</td>\n",
       "      <td>137417</td>\n",
       "    </tr>\n",
       "    <tr>\n",
       "      <th>...</th>\n",
       "      <td>...</td>\n",
       "      <td>...</td>\n",
       "      <td>...</td>\n",
       "    </tr>\n",
       "    <tr>\n",
       "      <th>610</th>\n",
       "      <td>신림선</td>\n",
       "      <td>당곡</td>\n",
       "      <td>7492</td>\n",
       "    </tr>\n",
       "    <tr>\n",
       "      <th>611</th>\n",
       "      <td>신림선</td>\n",
       "      <td>신림</td>\n",
       "      <td>2779</td>\n",
       "    </tr>\n",
       "    <tr>\n",
       "      <th>612</th>\n",
       "      <td>신림선</td>\n",
       "      <td>서원</td>\n",
       "      <td>2296</td>\n",
       "    </tr>\n",
       "    <tr>\n",
       "      <th>613</th>\n",
       "      <td>신림선</td>\n",
       "      <td>서울대벤처타운</td>\n",
       "      <td>10140</td>\n",
       "    </tr>\n",
       "    <tr>\n",
       "      <th>614</th>\n",
       "      <td>신림선</td>\n",
       "      <td>관악산(서울대)</td>\n",
       "      <td>12730</td>\n",
       "    </tr>\n",
       "  </tbody>\n",
       "</table>\n",
       "<p>615 rows × 3 columns</p>\n",
       "</div>"
      ],
      "text/plain": [
       "      호선       역이름  출근시간 하차인원\n",
       "0    1호선       서울역     302084\n",
       "1    1호선        시청     242137\n",
       "2    1호선        종각     330536\n",
       "3    1호선      종로3가      94168\n",
       "4    1호선      종로5가     137417\n",
       "..   ...       ...        ...\n",
       "610  신림선        당곡       7492\n",
       "611  신림선        신림       2779\n",
       "612  신림선        서원       2296\n",
       "613  신림선   서울대벤처타운      10140\n",
       "614  신림선  관악산(서울대)      12730\n",
       "\n",
       "[615 rows x 3 columns]"
      ]
     },
     "execution_count": 3,
     "metadata": {},
     "output_type": "execute_result"
    }
   ],
   "source": [
    "# 정제된거 구경\n",
    "df"
   ]
  },
  {
   "cell_type": "code",
   "execution_count": 4,
   "id": "526010c8",
   "metadata": {},
   "outputs": [],
   "source": [
    "max_list = [] # 각 호선별 max 값을 넣어둘 리스트\n",
    "max_name_list = [] # 각 호선별 max 값의 역 이름을 넣어둘 리스트\n",
    "max_xticks_list = [] # xticks에 사용할 리스트\n",
    "\n",
    "# 1호선에서 ~ 7호선까지\n",
    "for i in range(1, 8):\n",
    "    df_temp = df[df['호선'] == f'{i}호선'] # {i} 호선에 맞는 dt_temp 생성\n",
    "    df_temp.reset_index(drop=True, inplace=True) # dt_temp의 인덱스 초기화\n",
    "    \n",
    "    num_max = df_temp['출근시간 하차인원'].max() # df_temp['출근시간 하차인원']의 max값 구하기\n",
    "    name_max = df_temp['역이름'][df_temp['출근시간 하차인원'].argmax()] # df_temp['출근시간 하차인원'] max값의 인덱스로 해당 '역이름' 구하기\n",
    "    \n",
    "    max_list.append(num_max) # max_list에 num_max 추가\n",
    "    max_name_list.append(name_max) # max_name_list name_max 추가\n",
    "    max_xticks_list.append(f'{i}호선:{name_max}') # max_xticks_list에 '{i}호선의 {name_max}'' 추가"
   ]
  },
  {
   "cell_type": "code",
   "execution_count": 5,
   "id": "914c9af2",
   "metadata": {},
   "outputs": [
    {
     "name": "stdout",
     "output_type": "stream",
     "text": [
      "출근 시간대 1호선 최대 하차역은 종각역이고 하차인원은 330,536명 입니다.\n",
      "출근 시간대 2호선 최대 하차역은 역삼역이고 하차인원은 479,969명 입니다.\n",
      "출근 시간대 3호선 최대 하차역은 양재(서초구청)역이고 하차인원은 331,279명 입니다.\n",
      "출근 시간대 4호선 최대 하차역은 충무로역이고 하차인원은 208,776명 입니다.\n",
      "출근 시간대 5호선 최대 하차역은 여의도역이고 하차인원은 352,602명 입니다.\n",
      "출근 시간대 6호선 최대 하차역은 공덕역이고 하차인원은 134,342명 입니다.\n",
      "출근 시간대 7호선 최대 하차역은 가산디지털단지역이고 하차인원은 486,420명 입니다.\n"
     ]
    }
   ],
   "source": [
    "for k in range(0, len(max_list)):\n",
    "    print('출근 시간대 {0}호선 최대 하차역은 {1}역이고 하차인원은 {2:,}명 입니다.'.format(k+1,max_name_list[k],max_list[k]))"
   ]
  },
  {
   "cell_type": "code",
   "execution_count": 6,
   "id": "fff41000",
   "metadata": {},
   "outputs": [],
   "source": [
    "# 시스템 설정\n",
    "if(platform.system() == 'Windows'):\n",
    "    plt.rc('font', family = 'Malgun Gothic')\n",
    "else:\n",
    "    plt.rc('font', family = 'AppleGothic')"
   ]
  },
  {
   "cell_type": "code",
   "execution_count": 7,
   "id": "fd864144",
   "metadata": {},
   "outputs": [
    {
     "data": {
      "image/png": "[encoded data removed]",
      "text/plain": [
       "<Figure size 600x400 with 1 Axes>"
      ]
     },
     "metadata": {
      "needs_background": "light"
     },
     "output_type": "display_data"
    }
   ],
   "source": [
    "plt.figure(dpi=100) # 그래프 크기 설정\n",
    "plt.bar(range(len(max_name_list)),max_list) # 그래프의 x값과 데이터 설정\n",
    "plt.title('출근 시간대 지하철 노선별 최대 하차 인원 및 하차역') # 그래프 타이틀 설정\n",
    "plt.xticks(range(len(max_name_list)), max_xticks_list, rotation=80) # 그래프 xticks 설정\n",
    "plt.show() # 그래프 출력"
   ]
  },
  {
   "cell_type": "code",
   "execution_count": null,
   "id": "7d4bdbfe",
   "metadata": {},
   "outputs": [],
   "source": []
  }
 ],
 "metadata": {
  "kernelspec": {
   "display_name": "Python 3 (ipykernel)",
   "language": "python",
   "name": "python3"
  },
  "language_info": {
   "codemirror_mode": {
    "name": "ipython",
    "version": 3
   },
   "file_extension": ".py",
   "mimetype": "text/x-python",
   "name": "python",
   "nbconvert_exporter": "python",
   "pygments_lexer": "ipython3",
   "version": "3.9.12"
  }
 },
 "nbformat": 4,
 "nbformat_minor": 5
}
