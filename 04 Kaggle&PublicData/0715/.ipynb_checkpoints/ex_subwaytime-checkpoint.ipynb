{
 "cells": [
  {
   "cell_type": "markdown",
   "id": "7e8ecc93",
   "metadata": {},
   "source": [
    "# 지하철 시간대별 데이터 시각화"
   ]
  },
  {
   "cell_type": "code",
   "execution_count": 2,
   "id": "ef490af6",
   "metadata": {},
   "outputs": [],
   "source": [
    "DIR_PATH = './Data/'"
   ]
  },
  {
   "cell_type": "code",
   "execution_count": 3,
   "id": "f33727f3",
   "metadata": {
    "scrolled": true
   },
   "outputs": [
    {
     "name": "stdout",
     "output_type": "stream",
     "text": [
      "[1, 4, 9, 16]\n",
      "[1, 2, 3, 4]\n"
     ]
    }
   ],
   "source": [
    "def func(x):\n",
    "    return x **2\n",
    "\n",
    "a = [1, 2, 3, 4]\n",
    "a = list(map(func, a)) # 각 숫자의 제곱\n",
    "print(a)\n",
    "data =['1', '2', '3', '4']\n",
    "data = list(map(int, data)) # 문자를 정수로 변환\n",
    "print(data)"
   ]
  },
  {
   "cell_type": "markdown",
   "id": "e5d87447",
   "metadata": {},
   "source": [
    "##### 문자형과 정수형이 다른 결과값을 보임"
   ]
  },
  {
   "cell_type": "markdown",
   "id": "c17e9878",
   "metadata": {},
   "source": [
    "### 시간대별 지하철 이용 인원 수"
   ]
  },
  {
   "cell_type": "code",
   "execution_count": 6,
   "id": "7ffe646b",
   "metadata": {},
   "outputs": [
    {
     "name": "stdout",
     "output_type": "stream",
     "text": [
      "총 지하철 역의 수: 615\n",
      "새벽 4시 승차인원: 135,398\n"
     ]
    }
   ],
   "source": [
    "import csv\n",
    "\n",
    "result = []\n",
    "total_number = 0\n",
    "\n",
    "with open(DIR_PATH + 'subwaytime.csv', encoding='utf-8') as f:\n",
    "    data = csv.reader(f)\n",
    "    next(data) #2줄의 헤더 정보를 건너뜀\n",
    "    next(data)\n",
    "    \n",
    "    for row in data:\n",
    "        row[4:] = map(int, row[4:]) # 문자열을 숫자로 변경(천단위 콤마 제거)\n",
    "        total_number += row[4]\n",
    "        result.append(row[4])\n",
    "\n",
    "print('총 지하철 역의 수:', len(result))\n",
    "print('새벽 4시 승차인원: {:,}'.format(total_number))"
   ]
  },
  {
   "cell_type": "code",
   "execution_count": null,
   "id": "89f053b9",
   "metadata": {},
   "outputs": [],
   "source": []
  }
 ],
 "metadata": {
  "kernelspec": {
   "display_name": "Python 3 (ipykernel)",
   "language": "python",
   "name": "python3"
  },
  "language_info": {
   "codemirror_mode": {
    "name": "ipython",
    "version": 3
   },
   "file_extension": ".py",
   "mimetype": "text/x-python",
   "name": "python",
   "nbconvert_exporter": "python",
   "pygments_lexer": "ipython3",
   "version": "3.9.12"
  }
 },
 "nbformat": 4,
 "nbformat_minor": 5
}
