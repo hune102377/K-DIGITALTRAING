{
 "cells": [
  {
   "cell_type": "code",
   "execution_count": 1,
   "id": "9cfcbfbf",
   "metadata": {},
   "outputs": [],
   "source": [
    "#모듈 로딩\n",
    "import pandas as pd\n",
    "import matplotlib.pyplot as plt\n",
    "import re\n",
    "import platform\n",
    "import matplotlib.font_manager as fm"
   ]
  },
  {
   "cell_type": "code",
   "execution_count": 2,
   "id": "406dd8bd",
   "metadata": {},
   "outputs": [
    {
     "name": "stderr",
     "output_type": "stream",
     "text": [
      "C:\\Users\\LJH\\AppData\\Local\\Temp\\ipykernel_7292\\3386359088.py:1: DtypeWarning: Columns (99,100,101,102,103,197,198,199,200,305,306,309) have mixed types. Specify dtype option on import or set low_memory=False.\n",
      "  df = pd.read_csv('./gender.csv', encoding='euc_kr')\n"
     ]
    }
   ],
   "source": [
    "df = pd.read_csv('./gender.csv', encoding='euc_kr')"
   ]
  },
  {
   "cell_type": "markdown",
   "id": "f9ac0900",
   "metadata": {},
   "source": [
    "# 데이터 전처리 부분"
   ]
  },
  {
   "cell_type": "code",
   "execution_count": 3,
   "id": "bf5b84ec",
   "metadata": {},
   "outputs": [],
   "source": [
    "# 우선 columns이 0, 1, 105, 208만 남김\n",
    "df = df.iloc[: ,[0, 1, 105, 208]]\n",
    "\n",
    "# '행정구역' 컬럼에서 필요없는 부분 제거\n",
    "for i in range(0,len(df.index)):\n",
    "    df['행정구역'][i] = re.split('[()]', df['행정구역'][i])\n",
    "    df['행정구역'][i] = df['행정구역'][i][0]\n",
    "    \n",
    "# 컬럼명과 인덱스를 사용하기 쉽게 변경\n",
    "df.columns = ['행정구역', '총인구', '남성인구', '여성인구']\n",
    "\n",
    "# 숫자부분의 ,와 자료형을 int 로 변환\n",
    "for i in range(1,4):\n",
    "    for j in range(0, len(df.index)):\n",
    "        df[df.columns[i]][j] = df[df.columns[i]][j].replace(',','')\n",
    "        df[df.columns[i]][j] = int(df[df.columns[i]][j])"
   ]
  },
  {
   "cell_type": "code",
   "execution_count": 4,
   "id": "9b00879f",
   "metadata": {
    "scrolled": false
   },
   "outputs": [
    {
     "data": {
      "text/html": [
       "<div>\n",
       "<style scoped>\n",
       "    .dataframe tbody tr th:only-of-type {\n",
       "        vertical-align: middle;\n",
       "    }\n",
       "\n",
       "    .dataframe tbody tr th {\n",
       "        vertical-align: top;\n",
       "    }\n",
       "\n",
       "    .dataframe thead th {\n",
       "        text-align: right;\n",
       "    }\n",
       "</style>\n",
       "<table border=\"1\" class=\"dataframe\">\n",
       "  <thead>\n",
       "    <tr style=\"text-align: right;\">\n",
       "      <th></th>\n",
       "      <th>행정구역</th>\n",
       "      <th>총인구</th>\n",
       "      <th>남성인구</th>\n",
       "      <th>여성인구</th>\n",
       "    </tr>\n",
       "  </thead>\n",
       "  <tbody>\n",
       "    <tr>\n",
       "      <th>0</th>\n",
       "      <td>서울특별시</td>\n",
       "      <td>9494807</td>\n",
       "      <td>4605655</td>\n",
       "      <td>4889152</td>\n",
       "    </tr>\n",
       "    <tr>\n",
       "      <th>1</th>\n",
       "      <td>서울특별시 종로구</td>\n",
       "      <td>143624</td>\n",
       "      <td>69513</td>\n",
       "      <td>74111</td>\n",
       "    </tr>\n",
       "    <tr>\n",
       "      <th>2</th>\n",
       "      <td>서울특별시 종로구 청운효자동</td>\n",
       "      <td>11803</td>\n",
       "      <td>5430</td>\n",
       "      <td>6373</td>\n",
       "    </tr>\n",
       "    <tr>\n",
       "      <th>3</th>\n",
       "      <td>서울특별시 종로구 사직동</td>\n",
       "      <td>9310</td>\n",
       "      <td>4154</td>\n",
       "      <td>5156</td>\n",
       "    </tr>\n",
       "    <tr>\n",
       "      <th>4</th>\n",
       "      <td>서울특별시 종로구 삼청동</td>\n",
       "      <td>2386</td>\n",
       "      <td>1130</td>\n",
       "      <td>1256</td>\n",
       "    </tr>\n",
       "    <tr>\n",
       "      <th>...</th>\n",
       "      <td>...</td>\n",
       "      <td>...</td>\n",
       "      <td>...</td>\n",
       "      <td>...</td>\n",
       "    </tr>\n",
       "    <tr>\n",
       "      <th>3862</th>\n",
       "      <td>제주특별자치도 서귀포시 서홍동</td>\n",
       "      <td>11254</td>\n",
       "      <td>5556</td>\n",
       "      <td>5698</td>\n",
       "    </tr>\n",
       "    <tr>\n",
       "      <th>3863</th>\n",
       "      <td>제주특별자치도 서귀포시 대륜동</td>\n",
       "      <td>15411</td>\n",
       "      <td>7802</td>\n",
       "      <td>7609</td>\n",
       "    </tr>\n",
       "    <tr>\n",
       "      <th>3864</th>\n",
       "      <td>제주특별자치도 서귀포시 대천동</td>\n",
       "      <td>13802</td>\n",
       "      <td>6980</td>\n",
       "      <td>6822</td>\n",
       "    </tr>\n",
       "    <tr>\n",
       "      <th>3865</th>\n",
       "      <td>제주특별자치도 서귀포시 중문동</td>\n",
       "      <td>12217</td>\n",
       "      <td>6197</td>\n",
       "      <td>6020</td>\n",
       "    </tr>\n",
       "    <tr>\n",
       "      <th>3866</th>\n",
       "      <td>제주특별자치도 서귀포시 예래동</td>\n",
       "      <td>3919</td>\n",
       "      <td>1998</td>\n",
       "      <td>1921</td>\n",
       "    </tr>\n",
       "  </tbody>\n",
       "</table>\n",
       "<p>3867 rows × 4 columns</p>\n",
       "</div>"
      ],
      "text/plain": [
       "                  행정구역      총인구     남성인구     여성인구\n",
       "0              서울특별시    9494807  4605655  4889152\n",
       "1           서울특별시 종로구    143624    69513    74111\n",
       "2      서울특별시 종로구 청운효자동    11803     5430     6373\n",
       "3        서울특별시 종로구 사직동     9310     4154     5156\n",
       "4        서울특별시 종로구 삼청동     2386     1130     1256\n",
       "...                ...      ...      ...      ...\n",
       "3862  제주특별자치도 서귀포시 서홍동    11254     5556     5698\n",
       "3863  제주특별자치도 서귀포시 대륜동    15411     7802     7609\n",
       "3864  제주특별자치도 서귀포시 대천동    13802     6980     6822\n",
       "3865  제주특별자치도 서귀포시 중문동    12217     6197     6020\n",
       "3866  제주특별자치도 서귀포시 예래동     3919     1998     1921\n",
       "\n",
       "[3867 rows x 4 columns]"
      ]
     },
     "execution_count": 4,
     "metadata": {},
     "output_type": "execute_result"
    }
   ],
   "source": [
    "# 필요한 부분의 데이터 프레임 확보\n",
    "df"
   ]
  },
  {
   "cell_type": "code",
   "execution_count": 5,
   "id": "67f681aa",
   "metadata": {},
   "outputs": [],
   "source": [
    "# 필요한 도시만 추출\n",
    "list_city = []\n",
    "for i in range(0,len(df.index)):\n",
    "    if '대구광역시' in (df['행정구역'][i]):\n",
    "        list_city.append(df.iloc[i])\n",
    "        df_city = pd.DataFrame(list_city)\n",
    "        df_city.reset_index(drop=True, inplace=True)"
   ]
  },
  {
   "cell_type": "code",
   "execution_count": 6,
   "id": "b46830c6",
   "metadata": {
    "scrolled": false
   },
   "outputs": [
    {
     "data": {
      "text/html": [
       "<div>\n",
       "<style scoped>\n",
       "    .dataframe tbody tr th:only-of-type {\n",
       "        vertical-align: middle;\n",
       "    }\n",
       "\n",
       "    .dataframe tbody tr th {\n",
       "        vertical-align: top;\n",
       "    }\n",
       "\n",
       "    .dataframe thead th {\n",
       "        text-align: right;\n",
       "    }\n",
       "</style>\n",
       "<table border=\"1\" class=\"dataframe\">\n",
       "  <thead>\n",
       "    <tr style=\"text-align: right;\">\n",
       "      <th></th>\n",
       "      <th>행정구역</th>\n",
       "      <th>총인구</th>\n",
       "      <th>남성인구</th>\n",
       "      <th>여성인구</th>\n",
       "    </tr>\n",
       "  </thead>\n",
       "  <tbody>\n",
       "    <tr>\n",
       "      <th>0</th>\n",
       "      <td>대구광역시</td>\n",
       "      <td>2375306</td>\n",
       "      <td>1169571</td>\n",
       "      <td>1205735</td>\n",
       "    </tr>\n",
       "    <tr>\n",
       "      <th>1</th>\n",
       "      <td>대구광역시 중구</td>\n",
       "      <td>78984</td>\n",
       "      <td>37920</td>\n",
       "      <td>41064</td>\n",
       "    </tr>\n",
       "    <tr>\n",
       "      <th>2</th>\n",
       "      <td>대구광역시 중구 동인동</td>\n",
       "      <td>7825</td>\n",
       "      <td>3917</td>\n",
       "      <td>3908</td>\n",
       "    </tr>\n",
       "    <tr>\n",
       "      <th>3</th>\n",
       "      <td>대구광역시 중구 삼덕동</td>\n",
       "      <td>6473</td>\n",
       "      <td>3063</td>\n",
       "      <td>3410</td>\n",
       "    </tr>\n",
       "    <tr>\n",
       "      <th>4</th>\n",
       "      <td>대구광역시 중구 성내1동</td>\n",
       "      <td>4870</td>\n",
       "      <td>2321</td>\n",
       "      <td>2549</td>\n",
       "    </tr>\n",
       "    <tr>\n",
       "      <th>...</th>\n",
       "      <td>...</td>\n",
       "      <td>...</td>\n",
       "      <td>...</td>\n",
       "      <td>...</td>\n",
       "    </tr>\n",
       "    <tr>\n",
       "      <th>148</th>\n",
       "      <td>대구광역시 달성군 옥포읍</td>\n",
       "      <td>24867</td>\n",
       "      <td>12516</td>\n",
       "      <td>12351</td>\n",
       "    </tr>\n",
       "    <tr>\n",
       "      <th>149</th>\n",
       "      <td>대구광역시 달성군 현풍읍</td>\n",
       "      <td>23171</td>\n",
       "      <td>12173</td>\n",
       "      <td>10998</td>\n",
       "    </tr>\n",
       "    <tr>\n",
       "      <th>150</th>\n",
       "      <td>대구광역시 달성군 가창면</td>\n",
       "      <td>7738</td>\n",
       "      <td>3854</td>\n",
       "      <td>3884</td>\n",
       "    </tr>\n",
       "    <tr>\n",
       "      <th>151</th>\n",
       "      <td>대구광역시 달성군 하빈면</td>\n",
       "      <td>3527</td>\n",
       "      <td>1906</td>\n",
       "      <td>1621</td>\n",
       "    </tr>\n",
       "    <tr>\n",
       "      <th>152</th>\n",
       "      <td>대구광역시 달성군 구지면</td>\n",
       "      <td>19620</td>\n",
       "      <td>10339</td>\n",
       "      <td>9281</td>\n",
       "    </tr>\n",
       "  </tbody>\n",
       "</table>\n",
       "<p>153 rows × 4 columns</p>\n",
       "</div>"
      ],
      "text/plain": [
       "              행정구역      총인구     남성인구     여성인구\n",
       "0          대구광역시    2375306  1169571  1205735\n",
       "1        대구광역시 중구     78984    37920    41064\n",
       "2     대구광역시 중구 동인동     7825     3917     3908\n",
       "3     대구광역시 중구 삼덕동     6473     3063     3410\n",
       "4    대구광역시 중구 성내1동     4870     2321     2549\n",
       "..             ...      ...      ...      ...\n",
       "148  대구광역시 달성군 옥포읍    24867    12516    12351\n",
       "149  대구광역시 달성군 현풍읍    23171    12173    10998\n",
       "150  대구광역시 달성군 가창면     7738     3854     3884\n",
       "151  대구광역시 달성군 하빈면     3527     1906     1621\n",
       "152  대구광역시 달성군 구지면    19620    10339     9281\n",
       "\n",
       "[153 rows x 4 columns]"
      ]
     },
     "execution_count": 6,
     "metadata": {},
     "output_type": "execute_result"
    }
   ],
   "source": [
    "df_city"
   ]
  },
  {
   "cell_type": "code",
   "execution_count": 7,
   "id": "7a66eab8",
   "metadata": {},
   "outputs": [],
   "source": [
    "list_filed = ['중구', '동구', '서구', '남구', '북구', '수성구', '달서구', '전체']"
   ]
  },
  {
   "cell_type": "code",
   "execution_count": 12,
   "id": "f3a6d0ae",
   "metadata": {},
   "outputs": [
    {
     "name": "stdout",
     "output_type": "stream",
     "text": [
      "끝\n"
     ]
    }
   ],
   "source": [
    "for i in range(0, len(df.index)):\n",
    "    if '대구광역시' in df_city['행정구역'][i]:\n",
    "        print('끝')\n",
    "        break\n",
    "    else :\n",
    "        print('아직')"
   ]
  },
  {
   "cell_type": "code",
   "execution_count": 31,
   "id": "504b4a3c",
   "metadata": {},
   "outputs": [],
   "source": [
    "# def calfiled(city)\n",
    "# 각 군별 이름, 남성 수, 여성 수를 저장\n",
    "\n",
    "list_name = []\n",
    "list_male = []\n",
    "list_female = []\n",
    "# 필요한 부분찾기\n",
    "for j in range(0, len(list_filed)):\n",
    "    txt = list_filed[j]\n",
    "    if j == len(list_filed) - 1 :\n",
    "        list_name.append('대구광역시 전체')\n",
    "        list_male.append(sum(list_male))\n",
    "        list_female.append(sum(list_female))\n",
    "        break\n",
    "    for i in range(0, len(df.index)):\n",
    "        if txt in df_city['행정구역'][i]:\n",
    "            list_name.append(df_city.iloc[i][0])\n",
    "            list_male.append(df_city.iloc[i][2])\n",
    "            list_female.append(df_city.iloc[i][3])\n",
    "            break"
   ]
  },
  {
   "cell_type": "code",
   "execution_count": 33,
   "id": "8b3b7499",
   "metadata": {},
   "outputs": [
    {
     "data": {
      "image/png": "[encoded data removed]",
      "text/plain": [
       "<Figure size 1080x576 with 8 Axes>"
      ]
     },
     "metadata": {},
     "output_type": "display_data"
    }
   ],
   "source": [
    "# 시각화\n",
    "fig, axes = plt.subplots(2, 4, figsize=(15, 8), sharex=True, sharey=True)\n",
    "for i in range(len(list_name)) :\n",
    "    population = [list_male[i], list_female[i]]\n",
    "\n",
    "    if platform.system() == 'Windows':\n",
    "        plt.rc('font', family='Malgun Gothic')\n",
    "    else:\n",
    "        plt.rc('font', family='AppleGothic')\n",
    "\n",
    "    color = ['royalblue', 'orange']\n",
    "    \n",
    "    \n",
    "    if i <= 3 :\n",
    "        axes[0, i].pie(population, labels=['남성', '여성'], autopct='%.1f%%', colors=color, startangle=90)\n",
    "        axes[0, i].set_title(list_name[i])\n",
    "    else :\n",
    "        axes[1, i % 4].pie(population, labels=['남성', '여성'], autopct='%.1f%%', colors=color, startangle=90)\n",
    "        axes[1, i % 4].set_title(list_name[i])\n",
    "    \n",
    "plt.show()"
   ]
  },
  {
   "cell_type": "code",
   "execution_count": null,
   "id": "d6433923",
   "metadata": {},
   "outputs": [],
   "source": []
  }
 ],
 "metadata": {
  "kernelspec": {
   "display_name": "Python 3 (ipykernel)",
   "language": "python",
   "name": "python3"
  },
  "language_info": {
   "codemirror_mode": {
    "name": "ipython",
    "version": 3
   },
   "file_extension": ".py",
   "mimetype": "text/x-python",
   "name": "python",
   "nbconvert_exporter": "python",
   "pygments_lexer": "ipython3",
   "version": "3.9.12"
  }
 },
 "nbformat": 4,
 "nbformat_minor": 5
}
